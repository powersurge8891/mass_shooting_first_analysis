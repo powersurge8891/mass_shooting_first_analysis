{
 "cells": [
  {
   "cell_type": "code",
   "execution_count": 1,
   "metadata": {},
   "outputs": [],
   "source": [
    "import pandas as pd\n",
    "import matplotlib.pyplot as plt\n",
    "import seaborn as sns\n",
    "import numpy as np"
   ]
  },
  {
   "cell_type": "markdown",
   "metadata": {},
   "source": [
    "# USA mass shooting dataset"
   ]
  },
  {
   "cell_type": "markdown",
   "metadata": {},
   "source": [
    "================================================================================================"
   ]
  },
  {
   "cell_type": "code",
   "execution_count": 2,
   "metadata": {},
   "outputs": [
    {
     "data": {
      "text/html": [
       "<div>\n",
       "<style scoped>\n",
       "    .dataframe tbody tr th:only-of-type {\n",
       "        vertical-align: middle;\n",
       "    }\n",
       "\n",
       "    .dataframe tbody tr th {\n",
       "        vertical-align: top;\n",
       "    }\n",
       "\n",
       "    .dataframe thead th {\n",
       "        text-align: right;\n",
       "    }\n",
       "</style>\n",
       "<table border=\"1\" class=\"dataframe\">\n",
       "  <thead>\n",
       "    <tr style=\"text-align: right;\">\n",
       "      <th></th>\n",
       "      <th>S#</th>\n",
       "      <th>Title</th>\n",
       "      <th>Location</th>\n",
       "      <th>Date</th>\n",
       "      <th>Summary</th>\n",
       "      <th>Fatalities</th>\n",
       "      <th>Injured</th>\n",
       "      <th>Total victims</th>\n",
       "      <th>Mental Health Issues</th>\n",
       "      <th>Race</th>\n",
       "      <th>Gender</th>\n",
       "      <th>Latitude</th>\n",
       "      <th>Longitude</th>\n",
       "    </tr>\n",
       "  </thead>\n",
       "  <tbody>\n",
       "    <tr>\n",
       "      <td>317</td>\n",
       "      <td>318</td>\n",
       "      <td>St. Aloysius Church</td>\n",
       "      <td>Spokane, Washington</td>\n",
       "      <td>11/11/1971</td>\n",
       "      <td>On November 11, 1971, a former MIT student ent...</td>\n",
       "      <td>2</td>\n",
       "      <td>4</td>\n",
       "      <td>5</td>\n",
       "      <td>Yes</td>\n",
       "      <td>White American or European American</td>\n",
       "      <td>Male</td>\n",
       "      <td>47.673674</td>\n",
       "      <td>-117.415984</td>\n",
       "    </tr>\n",
       "    <tr>\n",
       "      <td>318</td>\n",
       "      <td>319</td>\n",
       "      <td>Rose-Mar College of Beauty</td>\n",
       "      <td>Mesa, Arizona</td>\n",
       "      <td>11/12/1966</td>\n",
       "      <td>On November 12, 1966, an 18-year-old high scho...</td>\n",
       "      <td>5</td>\n",
       "      <td>1</td>\n",
       "      <td>6</td>\n",
       "      <td>Yes</td>\n",
       "      <td>White American or European American</td>\n",
       "      <td>Male</td>\n",
       "      <td>33.422687</td>\n",
       "      <td>-111.816320</td>\n",
       "    </tr>\n",
       "    <tr>\n",
       "      <td>319</td>\n",
       "      <td>320</td>\n",
       "      <td>University of Texas at Austin</td>\n",
       "      <td>Austin, Texas</td>\n",
       "      <td>8/1/1966</td>\n",
       "      <td>On August 1, 1966, a 25-year-old engineering s...</td>\n",
       "      <td>17</td>\n",
       "      <td>32</td>\n",
       "      <td>48</td>\n",
       "      <td>Yes</td>\n",
       "      <td>White American or European American</td>\n",
       "      <td>Male</td>\n",
       "      <td>30.198887</td>\n",
       "      <td>-97.844159</td>\n",
       "    </tr>\n",
       "  </tbody>\n",
       "</table>\n",
       "</div>"
      ],
      "text/plain": [
       "      S#                          Title             Location        Date  \\\n",
       "317  318            St. Aloysius Church  Spokane, Washington  11/11/1971   \n",
       "318  319     Rose-Mar College of Beauty        Mesa, Arizona  11/12/1966   \n",
       "319  320  University of Texas at Austin        Austin, Texas    8/1/1966   \n",
       "\n",
       "                                               Summary  Fatalities  Injured  \\\n",
       "317  On November 11, 1971, a former MIT student ent...           2        4   \n",
       "318  On November 12, 1966, an 18-year-old high scho...           5        1   \n",
       "319  On August 1, 1966, a 25-year-old engineering s...          17       32   \n",
       "\n",
       "     Total victims Mental Health Issues                                 Race  \\\n",
       "317              5                  Yes  White American or European American   \n",
       "318              6                  Yes  White American or European American   \n",
       "319             48                  Yes  White American or European American   \n",
       "\n",
       "    Gender   Latitude   Longitude  \n",
       "317   Male  47.673674 -117.415984  \n",
       "318   Male  33.422687 -111.816320  \n",
       "319   Male  30.198887  -97.844159  "
      ]
     },
     "execution_count": 2,
     "metadata": {},
     "output_type": "execute_result"
    }
   ],
   "source": [
    "df=pd.read_csv(r\"C:\\Users\\pc\\Desktop\\MY FILES\\dataset\\mass_shooting.csv\", encoding=\"latin\")\n",
    "df.tail(3)"
   ]
  },
  {
   "cell_type": "markdown",
   "metadata": {},
   "source": [
    "### dropping some columns"
   ]
  },
  {
   "cell_type": "code",
   "execution_count": 3,
   "metadata": {},
   "outputs": [],
   "source": [
    "df.drop(columns=['S#','Latitude','Longitude'],  inplace=True)"
   ]
  },
  {
   "cell_type": "code",
   "execution_count": 4,
   "metadata": {},
   "outputs": [
    {
     "data": {
      "text/html": [
       "<div>\n",
       "<style scoped>\n",
       "    .dataframe tbody tr th:only-of-type {\n",
       "        vertical-align: middle;\n",
       "    }\n",
       "\n",
       "    .dataframe tbody tr th {\n",
       "        vertical-align: top;\n",
       "    }\n",
       "\n",
       "    .dataframe thead th {\n",
       "        text-align: right;\n",
       "    }\n",
       "</style>\n",
       "<table border=\"1\" class=\"dataframe\">\n",
       "  <thead>\n",
       "    <tr style=\"text-align: right;\">\n",
       "      <th></th>\n",
       "      <th>Title</th>\n",
       "      <th>Location</th>\n",
       "      <th>Date</th>\n",
       "      <th>Summary</th>\n",
       "      <th>Fatalities</th>\n",
       "      <th>Injured</th>\n",
       "      <th>Total victims</th>\n",
       "      <th>Mental Health Issues</th>\n",
       "      <th>Race</th>\n",
       "      <th>Gender</th>\n",
       "    </tr>\n",
       "  </thead>\n",
       "  <tbody>\n",
       "    <tr>\n",
       "      <td>162</td>\n",
       "      <td>Homes in Desoto and Dallas</td>\n",
       "      <td>Dallas, Texas</td>\n",
       "      <td>8/7/2013</td>\n",
       "      <td>On August 7, 2013, a 44-year old former specia...</td>\n",
       "      <td>4</td>\n",
       "      <td>4</td>\n",
       "      <td>8</td>\n",
       "      <td>Unknown</td>\n",
       "      <td>Black American or African American</td>\n",
       "      <td>Male</td>\n",
       "    </tr>\n",
       "    <tr>\n",
       "      <td>174</td>\n",
       "      <td>Clackamas Town Center</td>\n",
       "      <td>Happy Valley, Oregon</td>\n",
       "      <td>12/11/2012</td>\n",
       "      <td>On December 11, 2012, an unemployed 22-year ol...</td>\n",
       "      <td>3</td>\n",
       "      <td>1</td>\n",
       "      <td>3</td>\n",
       "      <td>No</td>\n",
       "      <td>Some other race</td>\n",
       "      <td>Male</td>\n",
       "    </tr>\n",
       "    <tr>\n",
       "      <td>98</td>\n",
       "      <td>Grand 16 Theatre, Louisiana</td>\n",
       "      <td>Lafayette, Louisiana</td>\n",
       "      <td>7/23/2015</td>\n",
       "      <td>On July 23, 2015, a shooting occurred at The G...</td>\n",
       "      <td>3</td>\n",
       "      <td>9</td>\n",
       "      <td>11</td>\n",
       "      <td>Yes</td>\n",
       "      <td>White American or European American</td>\n",
       "      <td>Male</td>\n",
       "    </tr>\n",
       "    <tr>\n",
       "      <td>194</td>\n",
       "      <td>Hartford Beer Distributor shooting</td>\n",
       "      <td>Manchester, Connecticut</td>\n",
       "      <td>8/3/2010</td>\n",
       "      <td>Omar S. Thornton, 34, shot up his Hartford Bee...</td>\n",
       "      <td>9</td>\n",
       "      <td>2</td>\n",
       "      <td>11</td>\n",
       "      <td>No</td>\n",
       "      <td>black</td>\n",
       "      <td>Male</td>\n",
       "    </tr>\n",
       "  </tbody>\n",
       "</table>\n",
       "</div>"
      ],
      "text/plain": [
       "                                  Title                 Location        Date  \\\n",
       "162          Homes in Desoto and Dallas            Dallas, Texas    8/7/2013   \n",
       "174               Clackamas Town Center     Happy Valley, Oregon  12/11/2012   \n",
       "98          Grand 16 Theatre, Louisiana     Lafayette, Louisiana   7/23/2015   \n",
       "194  Hartford Beer Distributor shooting  Manchester, Connecticut    8/3/2010   \n",
       "\n",
       "                                               Summary  Fatalities  Injured  \\\n",
       "162  On August 7, 2013, a 44-year old former specia...           4        4   \n",
       "174  On December 11, 2012, an unemployed 22-year ol...           3        1   \n",
       "98   On July 23, 2015, a shooting occurred at The G...           3        9   \n",
       "194  Omar S. Thornton, 34, shot up his Hartford Bee...           9        2   \n",
       "\n",
       "     Total victims Mental Health Issues                                 Race  \\\n",
       "162              8              Unknown   Black American or African American   \n",
       "174              3                   No                      Some other race   \n",
       "98              11                  Yes  White American or European American   \n",
       "194             11                   No                                black   \n",
       "\n",
       "    Gender  \n",
       "162   Male  \n",
       "174   Male  \n",
       "98    Male  \n",
       "194   Male  "
      ]
     },
     "execution_count": 4,
     "metadata": {},
     "output_type": "execute_result"
    }
   ],
   "source": [
    "df.sample(4)"
   ]
  },
  {
   "cell_type": "markdown",
   "metadata": {},
   "source": [
    "================================================================================================"
   ]
  },
  {
   "cell_type": "markdown",
   "metadata": {},
   "source": [
    "### cleaning the data"
   ]
  },
  {
   "cell_type": "markdown",
   "metadata": {},
   "source": [
    "================================================================================================"
   ]
  },
  {
   "cell_type": "code",
   "execution_count": 5,
   "metadata": {},
   "outputs": [
    {
     "data": {
      "text/plain": [
       "<matplotlib.axes._subplots.AxesSubplot at 0x2864651df88>"
      ]
     },
     "execution_count": 5,
     "metadata": {},
     "output_type": "execute_result"
    },
    {
     "data": {
      "image/png": "[encoded data removed]",
      "text/plain": [
       "<Figure size 432x288 with 2 Axes>"
      ]
     },
     "metadata": {
      "needs_background": "light"
     },
     "output_type": "display_data"
    }
   ],
   "source": [
    "sns.heatmap(df.isna(), yticklabels=False)"
   ]
  },
  {
   "cell_type": "code",
   "execution_count": 6,
   "metadata": {},
   "outputs": [
    {
     "data": {
      "text/plain": [
       "Title                    0\n",
       "Location                45\n",
       "Date                     0\n",
       "Summary                  1\n",
       "Fatalities               0\n",
       "Injured                  0\n",
       "Total victims            0\n",
       "Mental Health Issues     0\n",
       "Race                     2\n",
       "Gender                   0\n",
       "dtype: int64"
      ]
     },
     "execution_count": 6,
     "metadata": {},
     "output_type": "execute_result"
    }
   ],
   "source": [
    "df.isnull().sum()"
   ]
  },
  {
   "cell_type": "code",
   "execution_count": 7,
   "metadata": {},
   "outputs": [],
   "source": [
    "df['Scene']=df.Location.fillna(value=\"Unknown\")"
   ]
  },
  {
   "cell_type": "code",
   "execution_count": 8,
   "metadata": {},
   "outputs": [],
   "source": [
    "df.drop(columns='Location', inplace=True)"
   ]
  },
  {
   "cell_type": "code",
   "execution_count": 9,
   "metadata": {},
   "outputs": [
    {
     "data": {
      "text/html": [
       "<div>\n",
       "<style scoped>\n",
       "    .dataframe tbody tr th:only-of-type {\n",
       "        vertical-align: middle;\n",
       "    }\n",
       "\n",
       "    .dataframe tbody tr th {\n",
       "        vertical-align: top;\n",
       "    }\n",
       "\n",
       "    .dataframe thead th {\n",
       "        text-align: right;\n",
       "    }\n",
       "</style>\n",
       "<table border=\"1\" class=\"dataframe\">\n",
       "  <thead>\n",
       "    <tr style=\"text-align: right;\">\n",
       "      <th></th>\n",
       "      <th>Title</th>\n",
       "      <th>Date</th>\n",
       "      <th>Summary</th>\n",
       "      <th>Fatalities</th>\n",
       "      <th>Injured</th>\n",
       "      <th>Total victims</th>\n",
       "      <th>Mental Health Issues</th>\n",
       "      <th>Race</th>\n",
       "      <th>Gender</th>\n",
       "      <th>Scene</th>\n",
       "    </tr>\n",
       "  </thead>\n",
       "  <tbody>\n",
       "    <tr>\n",
       "      <td>0</td>\n",
       "      <td>Las Vegas Strip mass shooting</td>\n",
       "      <td>10/1/2017</td>\n",
       "      <td>NaN</td>\n",
       "      <td>58</td>\n",
       "      <td>527</td>\n",
       "      <td>585</td>\n",
       "      <td>Unclear</td>\n",
       "      <td>White</td>\n",
       "      <td>M</td>\n",
       "      <td>Las Vegas, NV</td>\n",
       "    </tr>\n",
       "    <tr>\n",
       "      <td>1</td>\n",
       "      <td>San Francisco UPS shooting</td>\n",
       "      <td>6/14/2017</td>\n",
       "      <td>Jimmy Lam, 38, fatally shot three coworkers an...</td>\n",
       "      <td>3</td>\n",
       "      <td>2</td>\n",
       "      <td>5</td>\n",
       "      <td>Yes</td>\n",
       "      <td>Asian</td>\n",
       "      <td>M</td>\n",
       "      <td>San Francisco, CA</td>\n",
       "    </tr>\n",
       "    <tr>\n",
       "      <td>2</td>\n",
       "      <td>Pennsylvania supermarket shooting</td>\n",
       "      <td>6/7/2017</td>\n",
       "      <td>Randy Stair, a 24-year-old worker at Weis groc...</td>\n",
       "      <td>3</td>\n",
       "      <td>0</td>\n",
       "      <td>3</td>\n",
       "      <td>Unclear</td>\n",
       "      <td>White</td>\n",
       "      <td>M</td>\n",
       "      <td>Tunkhannock, PA</td>\n",
       "    </tr>\n",
       "    <tr>\n",
       "      <td>3</td>\n",
       "      <td>Florida awning manufacturer shooting</td>\n",
       "      <td>6/5/2017</td>\n",
       "      <td>John Robert Neumann, Jr., 45, a former employe...</td>\n",
       "      <td>5</td>\n",
       "      <td>0</td>\n",
       "      <td>5</td>\n",
       "      <td>Unclear</td>\n",
       "      <td>NaN</td>\n",
       "      <td>M</td>\n",
       "      <td>Orlando, Florida</td>\n",
       "    </tr>\n",
       "  </tbody>\n",
       "</table>\n",
       "</div>"
      ],
      "text/plain": [
       "                                  Title       Date  \\\n",
       "0         Las Vegas Strip mass shooting  10/1/2017   \n",
       "1            San Francisco UPS shooting  6/14/2017   \n",
       "2     Pennsylvania supermarket shooting   6/7/2017   \n",
       "3  Florida awning manufacturer shooting   6/5/2017   \n",
       "\n",
       "                                             Summary  Fatalities  Injured  \\\n",
       "0                                                NaN          58      527   \n",
       "1  Jimmy Lam, 38, fatally shot three coworkers an...           3        2   \n",
       "2  Randy Stair, a 24-year-old worker at Weis groc...           3        0   \n",
       "3  John Robert Neumann, Jr., 45, a former employe...           5        0   \n",
       "\n",
       "   Total victims Mental Health Issues   Race Gender              Scene  \n",
       "0            585              Unclear  White      M      Las Vegas, NV  \n",
       "1              5                  Yes  Asian      M  San Francisco, CA  \n",
       "2              3              Unclear  White      M    Tunkhannock, PA  \n",
       "3              5              Unclear    NaN      M   Orlando, Florida  "
      ]
     },
     "execution_count": 9,
     "metadata": {},
     "output_type": "execute_result"
    }
   ],
   "source": [
    "df.head(4)"
   ]
  },
  {
   "cell_type": "code",
   "execution_count": 10,
   "metadata": {},
   "outputs": [
    {
     "data": {
      "text/plain": [
       "Title                   0\n",
       "Date                    0\n",
       "Summary                 1\n",
       "Fatalities              0\n",
       "Injured                 0\n",
       "Total victims           0\n",
       "Mental Health Issues    0\n",
       "Race                    2\n",
       "Gender                  0\n",
       "Scene                   0\n",
       "dtype: int64"
      ]
     },
     "execution_count": 10,
     "metadata": {},
     "output_type": "execute_result"
    }
   ],
   "source": [
    "df.isna().sum()"
   ]
  },
  {
   "cell_type": "code",
   "execution_count": 11,
   "metadata": {},
   "outputs": [],
   "source": [
    "df.dropna(inplace=True)"
   ]
  },
  {
   "cell_type": "code",
   "execution_count": 12,
   "metadata": {},
   "outputs": [
    {
     "data": {
      "text/plain": [
       "Title                   0\n",
       "Date                    0\n",
       "Summary                 0\n",
       "Fatalities              0\n",
       "Injured                 0\n",
       "Total victims           0\n",
       "Mental Health Issues    0\n",
       "Race                    0\n",
       "Gender                  0\n",
       "Scene                   0\n",
       "dtype: int64"
      ]
     },
     "execution_count": 12,
     "metadata": {},
     "output_type": "execute_result"
    }
   ],
   "source": [
    "df.isnull().sum()"
   ]
  },
  {
   "cell_type": "code",
   "execution_count": 13,
   "metadata": {},
   "outputs": [
    {
     "name": "stdout",
     "output_type": "stream",
     "text": [
      "<class 'pandas.core.frame.DataFrame'>\n",
      "Int64Index: 317 entries, 1 to 319\n",
      "Data columns (total 10 columns):\n",
      "Title                   317 non-null object\n",
      "Date                    317 non-null object\n",
      "Summary                 317 non-null object\n",
      "Fatalities              317 non-null int64\n",
      "Injured                 317 non-null int64\n",
      "Total victims           317 non-null int64\n",
      "Mental Health Issues    317 non-null object\n",
      "Race                    317 non-null object\n",
      "Gender                  317 non-null object\n",
      "Scene                   317 non-null object\n",
      "dtypes: int64(3), object(7)\n",
      "memory usage: 27.2+ KB\n"
     ]
    }
   ],
   "source": [
    "df.info()"
   ]
  },
  {
   "cell_type": "code",
   "execution_count": 14,
   "metadata": {},
   "outputs": [],
   "source": [
    "df['Date_of_occurence']=pd.to_datetime(df.Date)"
   ]
  },
  {
   "cell_type": "code",
   "execution_count": 15,
   "metadata": {},
   "outputs": [],
   "source": [
    "df.drop(columns='Date', inplace=True)"
   ]
  },
  {
   "cell_type": "code",
   "execution_count": 16,
   "metadata": {},
   "outputs": [
    {
     "data": {
      "text/html": [
       "<div>\n",
       "<style scoped>\n",
       "    .dataframe tbody tr th:only-of-type {\n",
       "        vertical-align: middle;\n",
       "    }\n",
       "\n",
       "    .dataframe tbody tr th {\n",
       "        vertical-align: top;\n",
       "    }\n",
       "\n",
       "    .dataframe thead th {\n",
       "        text-align: right;\n",
       "    }\n",
       "</style>\n",
       "<table border=\"1\" class=\"dataframe\">\n",
       "  <thead>\n",
       "    <tr style=\"text-align: right;\">\n",
       "      <th></th>\n",
       "      <th>Title</th>\n",
       "      <th>Summary</th>\n",
       "      <th>Fatalities</th>\n",
       "      <th>Injured</th>\n",
       "      <th>Total victims</th>\n",
       "      <th>Mental Health Issues</th>\n",
       "      <th>Race</th>\n",
       "      <th>Gender</th>\n",
       "      <th>Scene</th>\n",
       "      <th>Date_of_occurence</th>\n",
       "    </tr>\n",
       "  </thead>\n",
       "  <tbody>\n",
       "    <tr>\n",
       "      <td>1</td>\n",
       "      <td>San Francisco UPS shooting</td>\n",
       "      <td>Jimmy Lam, 38, fatally shot three coworkers an...</td>\n",
       "      <td>3</td>\n",
       "      <td>2</td>\n",
       "      <td>5</td>\n",
       "      <td>Yes</td>\n",
       "      <td>Asian</td>\n",
       "      <td>M</td>\n",
       "      <td>San Francisco, CA</td>\n",
       "      <td>2017-06-14</td>\n",
       "    </tr>\n",
       "    <tr>\n",
       "      <td>2</td>\n",
       "      <td>Pennsylvania supermarket shooting</td>\n",
       "      <td>Randy Stair, a 24-year-old worker at Weis groc...</td>\n",
       "      <td>3</td>\n",
       "      <td>0</td>\n",
       "      <td>3</td>\n",
       "      <td>Unclear</td>\n",
       "      <td>White</td>\n",
       "      <td>M</td>\n",
       "      <td>Tunkhannock, PA</td>\n",
       "      <td>2017-06-07</td>\n",
       "    </tr>\n",
       "    <tr>\n",
       "      <td>4</td>\n",
       "      <td>Rural Ohio nursing home shooting</td>\n",
       "      <td>Thomas Hartless, 43, shot and killed a former ...</td>\n",
       "      <td>3</td>\n",
       "      <td>0</td>\n",
       "      <td>3</td>\n",
       "      <td>Yes</td>\n",
       "      <td>White</td>\n",
       "      <td>M</td>\n",
       "      <td>Kirkersville, Ohio</td>\n",
       "      <td>2017-05-12</td>\n",
       "    </tr>\n",
       "    <tr>\n",
       "      <td>5</td>\n",
       "      <td>Fresno downtown shooting</td>\n",
       "      <td>Kori Ali Muhammad, 39, opened fire along a str...</td>\n",
       "      <td>3</td>\n",
       "      <td>0</td>\n",
       "      <td>3</td>\n",
       "      <td>Unclear</td>\n",
       "      <td>Black</td>\n",
       "      <td>M</td>\n",
       "      <td>Fresno, California</td>\n",
       "      <td>2017-04-18</td>\n",
       "    </tr>\n",
       "    <tr>\n",
       "      <td>6</td>\n",
       "      <td>Fort Lauderdale airport shooting</td>\n",
       "      <td>Esteban Santiago, 26, flew from Alaska to Fort...</td>\n",
       "      <td>5</td>\n",
       "      <td>6</td>\n",
       "      <td>11</td>\n",
       "      <td>Yes</td>\n",
       "      <td>Latino</td>\n",
       "      <td>M</td>\n",
       "      <td>Fort Lauderdale, Florida</td>\n",
       "      <td>2017-01-06</td>\n",
       "    </tr>\n",
       "  </tbody>\n",
       "</table>\n",
       "</div>"
      ],
      "text/plain": [
       "                               Title  \\\n",
       "1         San Francisco UPS shooting   \n",
       "2  Pennsylvania supermarket shooting   \n",
       "4   Rural Ohio nursing home shooting   \n",
       "5           Fresno downtown shooting   \n",
       "6   Fort Lauderdale airport shooting   \n",
       "\n",
       "                                             Summary  Fatalities  Injured  \\\n",
       "1  Jimmy Lam, 38, fatally shot three coworkers an...           3        2   \n",
       "2  Randy Stair, a 24-year-old worker at Weis groc...           3        0   \n",
       "4  Thomas Hartless, 43, shot and killed a former ...           3        0   \n",
       "5  Kori Ali Muhammad, 39, opened fire along a str...           3        0   \n",
       "6  Esteban Santiago, 26, flew from Alaska to Fort...           5        6   \n",
       "\n",
       "   Total victims Mental Health Issues    Race Gender  \\\n",
       "1              5                  Yes   Asian      M   \n",
       "2              3              Unclear   White      M   \n",
       "4              3                  Yes   White      M   \n",
       "5              3              Unclear   Black      M   \n",
       "6             11                  Yes  Latino      M   \n",
       "\n",
       "                      Scene Date_of_occurence  \n",
       "1         San Francisco, CA        2017-06-14  \n",
       "2           Tunkhannock, PA        2017-06-07  \n",
       "4        Kirkersville, Ohio        2017-05-12  \n",
       "5        Fresno, California        2017-04-18  \n",
       "6  Fort Lauderdale, Florida        2017-01-06  "
      ]
     },
     "execution_count": 16,
     "metadata": {},
     "output_type": "execute_result"
    }
   ],
   "source": [
    "df.head()"
   ]
  },
  {
   "cell_type": "code",
   "execution_count": 17,
   "metadata": {},
   "outputs": [],
   "source": [
    "#df.to_csv('mass_shooting_cleaned')"
   ]
  },
  {
   "cell_type": "markdown",
   "metadata": {},
   "source": [
    "================================================================================================"
   ]
  },
  {
   "cell_type": "markdown",
   "metadata": {},
   "source": [
    "## Analysis"
   ]
  },
  {
   "cell_type": "markdown",
   "metadata": {},
   "source": [
    "=============================================================================================="
   ]
  },
  {
   "cell_type": "markdown",
   "metadata": {},
   "source": [
    "#### which location experienced the most shooting?"
   ]
  },
  {
   "cell_type": "code",
   "execution_count": 18,
   "metadata": {},
   "outputs": [
    {
     "data": {
      "text/plain": [
       "Unknown                    45\n",
       "Seattle, Washington         5\n",
       "Phoenix, Arizona            4\n",
       "Killeen, Texas              4\n",
       "Dallas, Texas               3\n",
       "                           ..\n",
       "Conway, Arkansas            1\n",
       "Greenville, Georgia         1\n",
       "West Paducah, Kentucky      1\n",
       "Brookhaven, Mississippi     1\n",
       "River Forest, Illinois      1\n",
       "Name: Scene, Length: 222, dtype: int64"
      ]
     },
     "execution_count": 18,
     "metadata": {},
     "output_type": "execute_result"
    }
   ],
   "source": [
    "df.Scene.value_counts()"
   ]
  },
  {
   "cell_type": "markdown",
   "metadata": {},
   "source": [
    "#### categorise perpetrators by gender"
   ]
  },
  {
   "cell_type": "code",
   "execution_count": 19,
   "metadata": {},
   "outputs": [
    {
     "data": {
      "text/plain": [
       "<matplotlib.axes._subplots.AxesSubplot at 0x28646648788>"
      ]
     },
     "execution_count": 19,
     "metadata": {},
     "output_type": "execute_result"
    },
    {
     "data": {
      "image/png": "[encoded data removed]",
      "text/plain": [
       "<Figure size 432x288 with 1 Axes>"
      ]
     },
     "metadata": {
      "needs_background": "light"
     },
     "output_type": "display_data"
    }
   ],
   "source": [
    "sns.countplot(df.Gender)"
   ]
  },
  {
   "cell_type": "markdown",
   "metadata": {},
   "source": [
    "the genders were not properly recorded in the dataset. Notwithstanding, males appear to be highest perpetrator"
   ]
  },
  {
   "cell_type": "markdown",
   "metadata": {},
   "source": [
    "#### from the dataset, which race is most prone to violence?"
   ]
  },
  {
   "cell_type": "code",
   "execution_count": 20,
   "metadata": {},
   "outputs": [
    {
     "data": {
      "text/plain": [
       "White American or European American                    122\n",
       "Black American or African American                      76\n",
       "Unknown                                                 42\n",
       "Some other race                                         20\n",
       "white                                                   12\n",
       "Asian American                                          11\n",
       "White                                                    6\n",
       "Asian                                                    6\n",
       "Latino                                                   5\n",
       "Black                                                    4\n",
       "black                                                    3\n",
       "Native American or Alaska Native                         3\n",
       "Two or more races                                        2\n",
       "Other                                                    2\n",
       "Asian American/Some other race                           1\n",
       "Black American or African American/Unknown               1\n",
       "White American or European American/Some other Race      1\n",
       "Name: Race, dtype: int64"
      ]
     },
     "execution_count": 20,
     "metadata": {},
     "output_type": "execute_result"
    }
   ],
   "source": [
    "df.Race.value_counts()"
   ]
  },
  {
   "cell_type": "markdown",
   "metadata": {},
   "source": [
    "## further cleaning"
   ]
  },
  {
   "cell_type": "code",
   "execution_count": 21,
   "metadata": {},
   "outputs": [],
   "source": [
    "df.Race.replace('White American or European American','white', inplace=True)\n"
   ]
  },
  {
   "cell_type": "code",
   "execution_count": 22,
   "metadata": {},
   "outputs": [],
   "source": [
    "df.replace('Black American or African American','black', inplace=True)\n",
    "df.replace('White','white', inplace=True)\n",
    "df.replace('Black','black', inplace=True)\n",
    "df.replace('Native American or Alaska Native','white', inplace=True)\n",
    "df.replace('White American or European American/Some other Race','white', inplace=True)\n",
    "df.replace('Asian American','Asian', inplace=True)\n",
    "df.replace('Asian American/Some other race','Asian', inplace=True)\n",
    "df.replace('Black American or African American/Unknown','black', inplace=True)\n",
    "df.replace('Two or more races','Other', inplace=True)\n",
    "df.replace('Some other race','Other', inplace=True)"
   ]
  },
  {
   "cell_type": "code",
   "execution_count": 23,
   "metadata": {},
   "outputs": [
    {
     "data": {
      "text/plain": [
       "<matplotlib.axes._subplots.AxesSubplot at 0x28646702488>"
      ]
     },
     "execution_count": 23,
     "metadata": {},
     "output_type": "execute_result"
    },
    {
     "data": {
      "image/png": "[encoded data removed]",
      "text/plain": [
       "<Figure size 432x288 with 1 Axes>"
      ]
     },
     "metadata": {
      "needs_background": "light"
     },
     "output_type": "display_data"
    }
   ],
   "source": [
    "df.Race.value_counts().plot()"
   ]
  },
  {
   "cell_type": "markdown",
   "metadata": {},
   "source": [
    "graph showing shooting by ethnicity"
   ]
  },
  {
   "cell_type": "markdown",
   "metadata": {},
   "source": [
    "### Create a time stamp of both the fatalities and injuries"
   ]
  },
  {
   "cell_type": "code",
   "execution_count": 24,
   "metadata": {},
   "outputs": [],
   "source": [
    "df['Year']=df.Date_of_occurence.dt.year"
   ]
  },
  {
   "cell_type": "code",
   "execution_count": 25,
   "metadata": {},
   "outputs": [
    {
     "data": {
      "text/html": [
       "<div>\n",
       "<style scoped>\n",
       "    .dataframe tbody tr th:only-of-type {\n",
       "        vertical-align: middle;\n",
       "    }\n",
       "\n",
       "    .dataframe tbody tr th {\n",
       "        vertical-align: top;\n",
       "    }\n",
       "\n",
       "    .dataframe thead th {\n",
       "        text-align: right;\n",
       "    }\n",
       "</style>\n",
       "<table border=\"1\" class=\"dataframe\">\n",
       "  <thead>\n",
       "    <tr style=\"text-align: right;\">\n",
       "      <th></th>\n",
       "      <th>Title</th>\n",
       "      <th>Summary</th>\n",
       "      <th>Fatalities</th>\n",
       "      <th>Injured</th>\n",
       "      <th>Total victims</th>\n",
       "      <th>Mental Health Issues</th>\n",
       "      <th>Race</th>\n",
       "      <th>Gender</th>\n",
       "      <th>Scene</th>\n",
       "      <th>Date_of_occurence</th>\n",
       "      <th>Year</th>\n",
       "    </tr>\n",
       "  </thead>\n",
       "  <tbody>\n",
       "    <tr>\n",
       "      <td>315</td>\n",
       "      <td>Clara Barton Elementary School</td>\n",
       "      <td>On January 17, 1974, a 14-year-old student ent...</td>\n",
       "      <td>1</td>\n",
       "      <td>3</td>\n",
       "      <td>4</td>\n",
       "      <td>Yes</td>\n",
       "      <td>Unknown</td>\n",
       "      <td>Male</td>\n",
       "      <td>Chicago, Illinois</td>\n",
       "      <td>1974-01-17</td>\n",
       "      <td>1974</td>\n",
       "    </tr>\n",
       "    <tr>\n",
       "      <td>316</td>\n",
       "      <td>New Orleans Police Shootings</td>\n",
       "      <td>On New Year's Eve in 1972, a 23-year-old ex-Na...</td>\n",
       "      <td>10</td>\n",
       "      <td>13</td>\n",
       "      <td>22</td>\n",
       "      <td>Yes</td>\n",
       "      <td>black</td>\n",
       "      <td>Male</td>\n",
       "      <td>New Orleans, Louisiana</td>\n",
       "      <td>1972-12-31</td>\n",
       "      <td>1972</td>\n",
       "    </tr>\n",
       "    <tr>\n",
       "      <td>317</td>\n",
       "      <td>St. Aloysius Church</td>\n",
       "      <td>On November 11, 1971, a former MIT student ent...</td>\n",
       "      <td>2</td>\n",
       "      <td>4</td>\n",
       "      <td>5</td>\n",
       "      <td>Yes</td>\n",
       "      <td>white</td>\n",
       "      <td>Male</td>\n",
       "      <td>Spokane, Washington</td>\n",
       "      <td>1971-11-11</td>\n",
       "      <td>1971</td>\n",
       "    </tr>\n",
       "    <tr>\n",
       "      <td>318</td>\n",
       "      <td>Rose-Mar College of Beauty</td>\n",
       "      <td>On November 12, 1966, an 18-year-old high scho...</td>\n",
       "      <td>5</td>\n",
       "      <td>1</td>\n",
       "      <td>6</td>\n",
       "      <td>Yes</td>\n",
       "      <td>white</td>\n",
       "      <td>Male</td>\n",
       "      <td>Mesa, Arizona</td>\n",
       "      <td>1966-11-12</td>\n",
       "      <td>1966</td>\n",
       "    </tr>\n",
       "    <tr>\n",
       "      <td>319</td>\n",
       "      <td>University of Texas at Austin</td>\n",
       "      <td>On August 1, 1966, a 25-year-old engineering s...</td>\n",
       "      <td>17</td>\n",
       "      <td>32</td>\n",
       "      <td>48</td>\n",
       "      <td>Yes</td>\n",
       "      <td>white</td>\n",
       "      <td>Male</td>\n",
       "      <td>Austin, Texas</td>\n",
       "      <td>1966-08-01</td>\n",
       "      <td>1966</td>\n",
       "    </tr>\n",
       "  </tbody>\n",
       "</table>\n",
       "</div>"
      ],
      "text/plain": [
       "                              Title  \\\n",
       "315  Clara Barton Elementary School   \n",
       "316    New Orleans Police Shootings   \n",
       "317             St. Aloysius Church   \n",
       "318      Rose-Mar College of Beauty   \n",
       "319   University of Texas at Austin   \n",
       "\n",
       "                                               Summary  Fatalities  Injured  \\\n",
       "315  On January 17, 1974, a 14-year-old student ent...           1        3   \n",
       "316  On New Year's Eve in 1972, a 23-year-old ex-Na...          10       13   \n",
       "317  On November 11, 1971, a former MIT student ent...           2        4   \n",
       "318  On November 12, 1966, an 18-year-old high scho...           5        1   \n",
       "319  On August 1, 1966, a 25-year-old engineering s...          17       32   \n",
       "\n",
       "     Total victims Mental Health Issues     Race Gender  \\\n",
       "315              4                  Yes  Unknown   Male   \n",
       "316             22                  Yes    black   Male   \n",
       "317              5                  Yes    white   Male   \n",
       "318              6                  Yes    white   Male   \n",
       "319             48                  Yes    white   Male   \n",
       "\n",
       "                      Scene Date_of_occurence  Year  \n",
       "315       Chicago, Illinois        1974-01-17  1974  \n",
       "316  New Orleans, Louisiana        1972-12-31  1972  \n",
       "317     Spokane, Washington        1971-11-11  1971  \n",
       "318           Mesa, Arizona        1966-11-12  1966  \n",
       "319           Austin, Texas        1966-08-01  1966  "
      ]
     },
     "execution_count": 25,
     "metadata": {},
     "output_type": "execute_result"
    }
   ],
   "source": [
    "df.tail()"
   ]
  },
  {
   "cell_type": "code",
   "execution_count": 26,
   "metadata": {},
   "outputs": [
    {
     "data": {
      "text/plain": [
       "<seaborn.axisgrid.FacetGrid at 0x28646781348>"
      ]
     },
     "execution_count": 26,
     "metadata": {},
     "output_type": "execute_result"
    },
    {
     "data": {
      "image/png": "[encoded data removed]",
      "text/plain": [
       "<Figure size 360x360 with 1 Axes>"
      ]
     },
     "metadata": {
      "needs_background": "light"
     },
     "output_type": "display_data"
    }
   ],
   "source": [
    "sns.relplot(y='Fatalities', x='Year', data= df)"
   ]
  },
  {
   "cell_type": "markdown",
   "metadata": {},
   "source": [
    "Fatality: The time series graph above has not only shown that fatality has increased over the years, but also,\n",
    "the number of occurence of mass shooting as well."
   ]
  },
  {
   "cell_type": "markdown",
   "metadata": {},
   "source": [
    "### What are the factors responsible for these crimes?"
   ]
  },
  {
   "cell_type": "code",
   "execution_count": 27,
   "metadata": {},
   "outputs": [
    {
     "data": {
      "text/plain": [
       "Index(['Title', 'Summary', 'Fatalities', 'Injured', 'Total victims',\n",
       "       'Mental Health Issues', 'Race', 'Gender', 'Scene', 'Date_of_occurence',\n",
       "       'Year'],\n",
       "      dtype='object')"
      ]
     },
     "execution_count": 27,
     "metadata": {},
     "output_type": "execute_result"
    }
   ],
   "source": [
    "df.columns"
   ]
  },
  {
   "cell_type": "code",
   "execution_count": 36,
   "metadata": {},
   "outputs": [
    {
     "data": {
      "text/plain": [
       "<matplotlib.axes._subplots.AxesSubplot at 0x2864b079848>"
      ]
     },
     "execution_count": 36,
     "metadata": {},
     "output_type": "execute_result"
    },
    {
     "data": {
      "image/png": "[encoded data removed]",
      "text/plain": [
       "<Figure size 432x288 with 1 Axes>"
      ]
     },
     "metadata": {
      "needs_background": "light"
     },
     "output_type": "display_data"
    }
   ],
   "source": [
    "sns.barplot(x= 'Mental Health Issues', y= 'Fatalities', data=df)"
   ]
  },
  {
   "cell_type": "markdown",
   "metadata": {},
   "source": [
    "### further cleaning"
   ]
  },
  {
   "cell_type": "code",
   "execution_count": 52,
   "metadata": {},
   "outputs": [],
   "source": [
    "mental=df['Mental Health Issues'].replace('Unknown', 'unknown')\n",
    "df['mental_health']=mental.replace('Unclear', 'unknown')"
   ]
  },
  {
   "cell_type": "code",
   "execution_count": 53,
   "metadata": {},
   "outputs": [
    {
     "data": {
      "text/html": [
       "<div>\n",
       "<style scoped>\n",
       "    .dataframe tbody tr th:only-of-type {\n",
       "        vertical-align: middle;\n",
       "    }\n",
       "\n",
       "    .dataframe tbody tr th {\n",
       "        vertical-align: top;\n",
       "    }\n",
       "\n",
       "    .dataframe thead th {\n",
       "        text-align: right;\n",
       "    }\n",
       "</style>\n",
       "<table border=\"1\" class=\"dataframe\">\n",
       "  <thead>\n",
       "    <tr style=\"text-align: right;\">\n",
       "      <th></th>\n",
       "      <th>Title</th>\n",
       "      <th>Summary</th>\n",
       "      <th>Fatalities</th>\n",
       "      <th>Injured</th>\n",
       "      <th>Total victims</th>\n",
       "      <th>Mental Health Issues</th>\n",
       "      <th>Race</th>\n",
       "      <th>Gender</th>\n",
       "      <th>Scene</th>\n",
       "      <th>Date_of_occurence</th>\n",
       "      <th>Year</th>\n",
       "      <th>mental_health</th>\n",
       "    </tr>\n",
       "  </thead>\n",
       "  <tbody>\n",
       "    <tr>\n",
       "      <td>1</td>\n",
       "      <td>San Francisco UPS shooting</td>\n",
       "      <td>Jimmy Lam, 38, fatally shot three coworkers an...</td>\n",
       "      <td>3</td>\n",
       "      <td>2</td>\n",
       "      <td>5</td>\n",
       "      <td>Yes</td>\n",
       "      <td>Asian</td>\n",
       "      <td>M</td>\n",
       "      <td>San Francisco, CA</td>\n",
       "      <td>2017-06-14</td>\n",
       "      <td>2017</td>\n",
       "      <td>Yes</td>\n",
       "    </tr>\n",
       "    <tr>\n",
       "      <td>2</td>\n",
       "      <td>Pennsylvania supermarket shooting</td>\n",
       "      <td>Randy Stair, a 24-year-old worker at Weis groc...</td>\n",
       "      <td>3</td>\n",
       "      <td>0</td>\n",
       "      <td>3</td>\n",
       "      <td>Unclear</td>\n",
       "      <td>white</td>\n",
       "      <td>M</td>\n",
       "      <td>Tunkhannock, PA</td>\n",
       "      <td>2017-06-07</td>\n",
       "      <td>2017</td>\n",
       "      <td>unknown</td>\n",
       "    </tr>\n",
       "    <tr>\n",
       "      <td>4</td>\n",
       "      <td>Rural Ohio nursing home shooting</td>\n",
       "      <td>Thomas Hartless, 43, shot and killed a former ...</td>\n",
       "      <td>3</td>\n",
       "      <td>0</td>\n",
       "      <td>3</td>\n",
       "      <td>Yes</td>\n",
       "      <td>white</td>\n",
       "      <td>M</td>\n",
       "      <td>Kirkersville, Ohio</td>\n",
       "      <td>2017-05-12</td>\n",
       "      <td>2017</td>\n",
       "      <td>Yes</td>\n",
       "    </tr>\n",
       "    <tr>\n",
       "      <td>5</td>\n",
       "      <td>Fresno downtown shooting</td>\n",
       "      <td>Kori Ali Muhammad, 39, opened fire along a str...</td>\n",
       "      <td>3</td>\n",
       "      <td>0</td>\n",
       "      <td>3</td>\n",
       "      <td>Unclear</td>\n",
       "      <td>black</td>\n",
       "      <td>M</td>\n",
       "      <td>Fresno, California</td>\n",
       "      <td>2017-04-18</td>\n",
       "      <td>2017</td>\n",
       "      <td>unknown</td>\n",
       "    </tr>\n",
       "    <tr>\n",
       "      <td>6</td>\n",
       "      <td>Fort Lauderdale airport shooting</td>\n",
       "      <td>Esteban Santiago, 26, flew from Alaska to Fort...</td>\n",
       "      <td>5</td>\n",
       "      <td>6</td>\n",
       "      <td>11</td>\n",
       "      <td>Yes</td>\n",
       "      <td>Latino</td>\n",
       "      <td>M</td>\n",
       "      <td>Fort Lauderdale, Florida</td>\n",
       "      <td>2017-01-06</td>\n",
       "      <td>2017</td>\n",
       "      <td>Yes</td>\n",
       "    </tr>\n",
       "  </tbody>\n",
       "</table>\n",
       "</div>"
      ],
      "text/plain": [
       "                               Title  \\\n",
       "1         San Francisco UPS shooting   \n",
       "2  Pennsylvania supermarket shooting   \n",
       "4   Rural Ohio nursing home shooting   \n",
       "5           Fresno downtown shooting   \n",
       "6   Fort Lauderdale airport shooting   \n",
       "\n",
       "                                             Summary  Fatalities  Injured  \\\n",
       "1  Jimmy Lam, 38, fatally shot three coworkers an...           3        2   \n",
       "2  Randy Stair, a 24-year-old worker at Weis groc...           3        0   \n",
       "4  Thomas Hartless, 43, shot and killed a former ...           3        0   \n",
       "5  Kori Ali Muhammad, 39, opened fire along a str...           3        0   \n",
       "6  Esteban Santiago, 26, flew from Alaska to Fort...           5        6   \n",
       "\n",
       "   Total victims Mental Health Issues    Race Gender  \\\n",
       "1              5                  Yes   Asian      M   \n",
       "2              3              Unclear   white      M   \n",
       "4              3                  Yes   white      M   \n",
       "5              3              Unclear   black      M   \n",
       "6             11                  Yes  Latino      M   \n",
       "\n",
       "                      Scene Date_of_occurence  Year mental_health  \n",
       "1         San Francisco, CA        2017-06-14  2017           Yes  \n",
       "2           Tunkhannock, PA        2017-06-07  2017       unknown  \n",
       "4        Kirkersville, Ohio        2017-05-12  2017           Yes  \n",
       "5        Fresno, California        2017-04-18  2017       unknown  \n",
       "6  Fort Lauderdale, Florida        2017-01-06  2017           Yes  "
      ]
     },
     "execution_count": 53,
     "metadata": {},
     "output_type": "execute_result"
    }
   ],
   "source": [
    "df.head()"
   ]
  },
  {
   "cell_type": "code",
   "execution_count": 70,
   "metadata": {},
   "outputs": [
    {
     "data": {
      "text/plain": [
       "<matplotlib.axes._subplots.AxesSubplot at 0x2864dca29c8>"
      ]
     },
     "execution_count": 70,
     "metadata": {},
     "output_type": "execute_result"
    },
    {
     "data": {
      "image/png": "[encoded data removed]",
      "text/plain": [
       "<Figure size 432x288 with 1 Axes>"
      ]
     },
     "metadata": {
      "needs_background": "light"
     },
     "output_type": "display_data"
    }
   ],
   "source": [
    "sns.barplot(y= 'mental_health', x= 'Fatalities', data=df, order= ['Yes','No', 'unknown'], capsize=0.1)"
   ]
  },
  {
   "cell_type": "markdown",
   "metadata": {},
   "source": [
    "The dataset confirms that more people with mental health committed mass shooting crime than\n",
    "those without."
   ]
  },
  {
   "cell_type": "code",
   "execution_count": 83,
   "metadata": {},
   "outputs": [
    {
     "data": {
      "text/html": [
       "<div>\n",
       "<style scoped>\n",
       "    .dataframe tbody tr th:only-of-type {\n",
       "        vertical-align: middle;\n",
       "    }\n",
       "\n",
       "    .dataframe tbody tr th {\n",
       "        vertical-align: top;\n",
       "    }\n",
       "\n",
       "    .dataframe thead th {\n",
       "        text-align: right;\n",
       "    }\n",
       "</style>\n",
       "<table border=\"1\" class=\"dataframe\">\n",
       "  <thead>\n",
       "    <tr style=\"text-align: right;\">\n",
       "      <th></th>\n",
       "      <th>Fatalities</th>\n",
       "      <th>Injured</th>\n",
       "      <th>Total victims</th>\n",
       "    </tr>\n",
       "    <tr>\n",
       "      <th>mental_health</th>\n",
       "      <th></th>\n",
       "      <th></th>\n",
       "      <th></th>\n",
       "    </tr>\n",
       "  </thead>\n",
       "  <tbody>\n",
       "    <tr>\n",
       "      <td>No</td>\n",
       "      <td>3.68</td>\n",
       "      <td>3.27</td>\n",
       "      <td>6.59</td>\n",
       "    </tr>\n",
       "    <tr>\n",
       "      <td>Yes</td>\n",
       "      <td>5.82</td>\n",
       "      <td>6.34</td>\n",
       "      <td>11.76</td>\n",
       "    </tr>\n",
       "    <tr>\n",
       "      <td>unknown</td>\n",
       "      <td>3.20</td>\n",
       "      <td>3.98</td>\n",
       "      <td>6.86</td>\n",
       "    </tr>\n",
       "  </tbody>\n",
       "</table>\n",
       "</div>"
      ],
      "text/plain": [
       "               Fatalities  Injured  Total victims\n",
       "mental_health                                    \n",
       "No                   3.68     3.27           6.59\n",
       "Yes                  5.82     6.34          11.76\n",
       "unknown              3.20     3.98           6.86"
      ]
     },
     "execution_count": 83,
     "metadata": {},
     "output_type": "execute_result"
    }
   ],
   "source": [
    "round(df.groupby('mental_health')[['Fatalities','Injured', 'Total victims']].mean(),2)"
   ]
  },
  {
   "cell_type": "markdown",
   "metadata": {},
   "source": [
    "The table above confirms that mental health is a significant factor contributing to mass shooting\n",
    "crime in the United States. People with mental health killed and injured more people than people\n",
    "without. "
   ]
  },
  {
   "cell_type": "code",
   "execution_count": 95,
   "metadata": {},
   "outputs": [
    {
     "data": {
      "text/plain": [
       "Male           272\n",
       "Unknown         21\n",
       "M               14\n",
       "Female           5\n",
       "Male/Female      4\n",
       "M/F              1\n",
       "Name: Gender, dtype: int64"
      ]
     },
     "execution_count": 95,
     "metadata": {},
     "output_type": "execute_result"
    }
   ],
   "source": [
    "df.Gender.value_counts()"
   ]
  },
  {
   "cell_type": "markdown",
   "metadata": {},
   "source": [
    "Gender is a strong factor in these crimes. males are 98% more likely to commit these crimes \n",
    "than female."
   ]
  },
  {
   "cell_type": "markdown",
   "metadata": {},
   "source": [
    "================================================================================================"
   ]
  },
  {
   "cell_type": "markdown",
   "metadata": {},
   "source": [
    "### what month of the year were you likely to get shot in the US?"
   ]
  },
  {
   "cell_type": "code",
   "execution_count": 84,
   "metadata": {},
   "outputs": [
    {
     "data": {
      "text/plain": [
       "Index(['Title', 'Summary', 'Fatalities', 'Injured', 'Total victims',\n",
       "       'Mental Health Issues', 'Race', 'Gender', 'Scene', 'Date_of_occurence',\n",
       "       'Year', 'mental_health'],\n",
       "      dtype='object')"
      ]
     },
     "execution_count": 84,
     "metadata": {},
     "output_type": "execute_result"
    }
   ],
   "source": [
    "df.columns"
   ]
  },
  {
   "cell_type": "code",
   "execution_count": 86,
   "metadata": {},
   "outputs": [],
   "source": [
    "df['Month']=df.Date_of_occurence.dt.month"
   ]
  },
  {
   "cell_type": "code",
   "execution_count": 87,
   "metadata": {},
   "outputs": [
    {
     "data": {
      "text/html": [
       "<div>\n",
       "<style scoped>\n",
       "    .dataframe tbody tr th:only-of-type {\n",
       "        vertical-align: middle;\n",
       "    }\n",
       "\n",
       "    .dataframe tbody tr th {\n",
       "        vertical-align: top;\n",
       "    }\n",
       "\n",
       "    .dataframe thead th {\n",
       "        text-align: right;\n",
       "    }\n",
       "</style>\n",
       "<table border=\"1\" class=\"dataframe\">\n",
       "  <thead>\n",
       "    <tr style=\"text-align: right;\">\n",
       "      <th></th>\n",
       "      <th>Title</th>\n",
       "      <th>Summary</th>\n",
       "      <th>Fatalities</th>\n",
       "      <th>Injured</th>\n",
       "      <th>Total victims</th>\n",
       "      <th>Mental Health Issues</th>\n",
       "      <th>Race</th>\n",
       "      <th>Gender</th>\n",
       "      <th>Scene</th>\n",
       "      <th>Date_of_occurence</th>\n",
       "      <th>Year</th>\n",
       "      <th>mental_health</th>\n",
       "      <th>Month</th>\n",
       "    </tr>\n",
       "  </thead>\n",
       "  <tbody>\n",
       "    <tr>\n",
       "      <td>129</td>\n",
       "      <td>Charlotte</td>\n",
       "      <td>On February 24, 2015, \"America's Next Top Mode...</td>\n",
       "      <td>3</td>\n",
       "      <td>0</td>\n",
       "      <td>3</td>\n",
       "      <td>No</td>\n",
       "      <td>Other</td>\n",
       "      <td>Male</td>\n",
       "      <td>Charlotte, North Carolina</td>\n",
       "      <td>2015-02-24</td>\n",
       "      <td>2015</td>\n",
       "      <td>No</td>\n",
       "      <td>2</td>\n",
       "    </tr>\n",
       "    <tr>\n",
       "      <td>100</td>\n",
       "      <td>Amnicola Training Center, Chattanooga</td>\n",
       "      <td>Four Marines were shot dead Thursday after a g...</td>\n",
       "      <td>5</td>\n",
       "      <td>3</td>\n",
       "      <td>7</td>\n",
       "      <td>Yes</td>\n",
       "      <td>white</td>\n",
       "      <td>Male</td>\n",
       "      <td>Chattanooga, Tennessee</td>\n",
       "      <td>2015-07-16</td>\n",
       "      <td>2015</td>\n",
       "      <td>Yes</td>\n",
       "      <td>7</td>\n",
       "    </tr>\n",
       "    <tr>\n",
       "      <td>224</td>\n",
       "      <td>Essex Elementary School</td>\n",
       "      <td>On August 24, 2006, a 26-year old killed two p...</td>\n",
       "      <td>2</td>\n",
       "      <td>2</td>\n",
       "      <td>4</td>\n",
       "      <td>Yes</td>\n",
       "      <td>black</td>\n",
       "      <td>Male</td>\n",
       "      <td>Essex Junction, Vermont</td>\n",
       "      <td>2006-08-24</td>\n",
       "      <td>2006</td>\n",
       "      <td>Yes</td>\n",
       "      <td>8</td>\n",
       "    </tr>\n",
       "  </tbody>\n",
       "</table>\n",
       "</div>"
      ],
      "text/plain": [
       "                                     Title  \\\n",
       "129                              Charlotte   \n",
       "100  Amnicola Training Center, Chattanooga   \n",
       "224                Essex Elementary School   \n",
       "\n",
       "                                               Summary  Fatalities  Injured  \\\n",
       "129  On February 24, 2015, \"America's Next Top Mode...           3        0   \n",
       "100  Four Marines were shot dead Thursday after a g...           5        3   \n",
       "224  On August 24, 2006, a 26-year old killed two p...           2        2   \n",
       "\n",
       "     Total victims Mental Health Issues   Race Gender  \\\n",
       "129              3                   No  Other   Male   \n",
       "100              7                  Yes  white   Male   \n",
       "224              4                  Yes  black   Male   \n",
       "\n",
       "                         Scene Date_of_occurence  Year mental_health  Month  \n",
       "129  Charlotte, North Carolina        2015-02-24  2015            No      2  \n",
       "100     Chattanooga, Tennessee        2015-07-16  2015           Yes      7  \n",
       "224    Essex Junction, Vermont        2006-08-24  2006           Yes      8  "
      ]
     },
     "execution_count": 87,
     "metadata": {},
     "output_type": "execute_result"
    }
   ],
   "source": [
    "df.sample(3)"
   ]
  },
  {
   "cell_type": "code",
   "execution_count": 94,
   "metadata": {},
   "outputs": [
    {
     "data": {
      "text/plain": [
       "<matplotlib.axes._subplots.AxesSubplot at 0x2865162f508>"
      ]
     },
     "execution_count": 94,
     "metadata": {},
     "output_type": "execute_result"
    },
    {
     "data": {
      "image/png": "[encoded data removed]",
      "text/plain": [
       "<Figure size 432x288 with 1 Axes>"
      ]
     },
     "metadata": {
      "needs_background": "light"
     },
     "output_type": "display_data"
    }
   ],
   "source": [
    "df.Month.value_counts().plot(kind='bar')"
   ]
  },
  {
   "cell_type": "markdown",
   "metadata": {},
   "source": [
    "You are most likely get shot in US in the month of February"
   ]
  }
 ],
 "metadata": {
  "kernelspec": {
   "display_name": "Python 3",
   "language": "python",
   "name": "python3"
  },
  "language_info": {
   "codemirror_mode": {
    "name": "ipython",
    "version": 3
   },
   "file_extension": ".py",
   "mimetype": "text/x-python",
   "name": "python",
   "nbconvert_exporter": "python",
   "pygments_lexer": "ipython3",
   "version": "3.7.4"
  }
 },
 "nbformat": 4,
 "nbformat_minor": 2
}
